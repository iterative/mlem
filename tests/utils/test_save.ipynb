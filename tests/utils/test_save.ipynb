{
 "cells": [
  {
   "cell_type": "code",
   "execution_count": 1,
   "metadata": {
    "execution": {
     "iopub.execute_input": "2023-07-13T20:04:23.425791Z",
     "iopub.status.busy": "2023-07-13T20:04:23.425682Z",
     "iopub.status.idle": "2023-07-13T20:04:23.436620Z",
     "shell.execute_reply": "2023-07-13T20:04:23.436325Z"
    },
    "pycharm": {
     "name": "#%%\n"
    }
   },
   "outputs": [],
   "source": [
    "import numpy as np\n",
    "import regex\n",
    "\n",
    "def use_modules():\n",
    "    regex.split(' ', 'brown fox')\n",
    "    return bool(np.all([True]))\n"
   ]
  },
  {
   "cell_type": "code",
   "execution_count": 2,
   "metadata": {
    "execution": {
     "iopub.execute_input": "2023-07-13T20:04:23.438339Z",
     "iopub.status.busy": "2023-07-13T20:04:23.438249Z",
     "iopub.status.idle": "2023-07-13T20:04:24.532574Z",
     "shell.execute_reply": "2023-07-13T20:04:24.532277Z"
    },
    "pycharm": {
     "name": "#%%\n"
    }
   },
   "outputs": [
    {
     "name": "stdout",
     "output_type": "stream",
     "text": [
      "regex==2023.6.3\n",
      "numpy==1.25.1\n"
     ]
    }
   ],
   "source": [
    "from mlem.utils.module import get_object_requirements\n",
    "\n",
    "res = get_object_requirements(use_modules)\n",
    "\n",
    "print(\"\\n\".join(res.to_pip()))"
   ]
  }
 ],
 "metadata": {
  "kernelspec": {
   "display_name": "Python 3",
   "language": "python",
   "name": "python3"
  },
  "language_info": {
   "codemirror_mode": {
    "name": "ipython",
    "version": 3
   },
   "file_extension": ".py",
   "mimetype": "text/x-python",
   "name": "python",
   "nbconvert_exporter": "python",
   "pygments_lexer": "ipython3",
   "version": "3.10.9"
  }
 },
 "nbformat": 4,
 "nbformat_minor": 0
}
