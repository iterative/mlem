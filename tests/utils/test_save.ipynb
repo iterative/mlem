{
 "cells": [
  {
   "cell_type": "code",
   "execution_count": 1,
   "metadata": {
    "execution": {
     "iopub.execute_input": "2023-02-13T14:11:29.261665Z",
     "iopub.status.busy": "2023-02-13T14:11:29.261394Z",
     "iopub.status.idle": "2023-02-13T14:11:29.267566Z",
     "shell.execute_reply": "2023-02-13T14:11:29.266734Z"
    },
    "pycharm": {
     "name": "#%%\n"
    }
   },
   "outputs": [],
   "source": [
    "import numpy as np\n",
    "\n",
    "def func(data):\n",
    "    return bool(np.all([True]))\n"
   ]
  },
  {
   "cell_type": "code",
   "execution_count": 2,
   "metadata": {
    "execution": {
     "iopub.execute_input": "2023-02-13T14:11:29.270506Z",
     "iopub.status.busy": "2023-02-13T14:11:29.270233Z",
     "iopub.status.idle": "2023-02-13T14:11:29.969468Z",
     "shell.execute_reply": "2023-02-13T14:11:29.968705Z"
    },
    "pycharm": {
     "is_executing": true,
     "name": "#%%\n"
    }
   },
   "outputs": [
    {
     "name": "stdout",
     "output_type": "stream",
     "text": [
      "numpy==1.22.4\n"
     ]
    }
   ],
   "source": [
    "from mlem.utils.module import get_object_requirements\n",
    "\n",
    "res = get_object_requirements(func)\n",
    "\n",
    "print(\" \".join(res.to_pip()))"
   ]
  }
 ],
 "metadata": {
  "kernelspec": {
   "display_name": "Python 3",
   "language": "python",
   "name": "python3"
  },
  "language_info": {
   "codemirror_mode": {
    "name": "ipython",
    "version": 3
   },
   "file_extension": ".py",
   "mimetype": "text/x-python",
   "name": "python",
   "nbconvert_exporter": "python",
   "pygments_lexer": "ipython3",
   "version": "3.9.13"
  }
 },
 "nbformat": 4,
 "nbformat_minor": 0
}
