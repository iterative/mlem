{
 "cells": [
  {
   "cell_type": "code",
   "execution_count": 1,
   "metadata": {
    "execution": {
     "iopub.execute_input": "2023-07-31T10:02:34.099802Z",
     "iopub.status.busy": "2023-07-31T10:02:34.099406Z",
     "iopub.status.idle": "2023-07-31T10:02:34.115259Z",
     "shell.execute_reply": "2023-07-31T10:02:34.114688Z"
    },
    "pycharm": {
     "name": "#%%\n"
    }
   },
   "outputs": [],
   "source": [
    "import numpy as np\n",
    "import regex\n",
    "\n",
    "def func(data):\n",
    "    # using regex, just so it's listed and its version inferred correctly\n",
    "    regex.search(r'(ab)', 'abcdef')\n",
    "    return bool(np.all([True]))\n"
   ]
  },
  {
   "cell_type": "code",
   "execution_count": 2,
   "metadata": {
    "execution": {
     "iopub.execute_input": "2023-07-31T10:02:34.118394Z",
     "iopub.status.busy": "2023-07-31T10:02:34.118192Z",
     "iopub.status.idle": "2023-07-31T10:02:35.897692Z",
     "shell.execute_reply": "2023-07-31T10:02:35.897269Z"
    },
    "pycharm": {
     "is_executing": true,
     "name": "#%%\n"
    }
   },
   "outputs": [
    {
     "name": "stdout",
     "output_type": "stream",
     "text": [
      "numpy==1.25.1 regex==2023.6.3\n"
     ]
    }
   ],
   "source": [
    "from mlem.utils.module import get_object_requirements\n",
    "\n",
    "res = get_object_requirements(func)\n",
    "\n",
    "print(\" \".join(res.to_pip()))"
   ]
  }
 ],
 "metadata": {
  "kernelspec": {
   "display_name": "Python 3",
   "language": "python",
   "name": "python3"
  },
  "language_info": {
   "codemirror_mode": {
    "name": "ipython",
    "version": 3
   },
   "file_extension": ".py",
   "mimetype": "text/x-python",
   "name": "python",
   "nbconvert_exporter": "python",
   "pygments_lexer": "ipython3",
   "version": "3.10.9"
  }
 },
 "nbformat": 4,
 "nbformat_minor": 0
}
