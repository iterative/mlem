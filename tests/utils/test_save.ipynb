{
 "cells": [
  {
   "cell_type": "code",
   "execution_count": 1,
   "metadata": {
    "execution": {
     "iopub.execute_input": "2023-01-05T20:28:08.980607Z",
     "iopub.status.busy": "2023-01-05T20:28:08.980471Z",
     "iopub.status.idle": "2023-01-05T20:28:08.985874Z",
     "shell.execute_reply": "2023-01-05T20:28:08.985523Z"
    },
    "pycharm": {
     "name": "#%%\n"
    }
   },
   "outputs": [],
   "source": [
    "import numpy as np\n",
    "\n",
    "def func(data):\n",
    "    return bool(np.all([True]))\n"
   ]
  },
  {
   "cell_type": "code",
   "execution_count": null,
   "metadata": {
    "execution": {
     "iopub.execute_input": "2023-01-05T20:28:08.987817Z",
     "iopub.status.busy": "2023-01-05T20:28:08.987672Z",
     "iopub.status.idle": "2023-01-05T20:28:09.517178Z",
     "shell.execute_reply": "2023-01-05T20:28:09.516853Z"
    },
    "pycharm": {
     "name": "#%%\n",
     "is_executing": true
    }
   },
   "outputs": [],
   "source": [
    "from mlem.utils.module import get_object_requirements\n",
    "\n",
    "res = get_object_requirements(func)\n",
    "\n",
    "print(\" \".join(res.to_pip()))"
   ]
  }
 ],
 "metadata": {
  "kernelspec": {
   "display_name": "Python 3",
   "language": "python",
   "name": "python3"
  },
  "language_info": {
   "codemirror_mode": {
    "name": "ipython",
    "version": 3
   },
   "file_extension": ".py",
   "mimetype": "text/x-python",
   "name": "python",
   "nbconvert_exporter": "python",
   "pygments_lexer": "ipython3",
   "version": "3.9.13"
  }
 },
 "nbformat": 4,
 "nbformat_minor": 0
}
